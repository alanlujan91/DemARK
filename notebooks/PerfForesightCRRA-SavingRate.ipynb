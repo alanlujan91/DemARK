{
 "cells": [
  {
   "cell_type": "markdown",
   "metadata": {},
   "source": [
    "# Perfect Foresight CRRA Model - Savings Rate"
   ]
  },
  {
   "cell_type": "code",
   "execution_count": 1,
   "metadata": {},
   "outputs": [],
   "source": [
    "%matplotlib inline\n",
    "import matplotlib.pyplot as plt\n",
    "# The first step is to be able to bring things in from different directories\n",
    "import sys \n",
    "import os\n",
    "\n",
    "sys.path.insert(0, os.path.abspath('../lib'))\n",
    "\n",
    "import numpy as np\n",
    "import HARK \n",
    "from copy import deepcopy\n",
    "mystr = lambda number : \"{:.4f}\".format(number)\n",
    "from HARK.utilities import plotFuncs\n",
    "\n",
    "# These last two will make our charts look nice\n",
    "plt.style.use('seaborn-darkgrid')\n",
    "palette = plt.get_cmap('Dark2')"
   ]
  },
  {
   "cell_type": "markdown",
   "metadata": {},
   "source": [
    "## Question 2\n",
    "Make some plots that illustrate the points made in sections 4.1 and 4.2 of [PerfForesightCRRA](http://www.econ2.jhu.edu/people/ccarroll/public/lecturenotes/Consumption/PerfForesightCRRA.pdf) about the size of the human wealth effect and the relationship between interest rates and the saving rate."
   ]
  },
  {
   "cell_type": "markdown",
   "metadata": {},
   "source": [
    "Firstly, we want to show that for plausible parameter values, the human wealth effect of a fall in interest rate outweighs the income and substition effects, so consumption rises strongly."
   ]
  },
  {
   "cell_type": "code",
   "execution_count": 2,
   "metadata": {},
   "outputs": [],
   "source": [
    "# Set up a HARK Perfect Foresight Consumer called PFwealth\n",
    "\n",
    "from HARK.ConsumptionSaving.ConsIndShockModel import PerfForesightConsumerType # Import the consumer type\n",
    "\n",
    "# Now we need to \"fill\" our consumer with parameters that allow us to solve the consumer's problem\n",
    "\n",
    "# First we need to set out a dictionary\n",
    "CRRA = 2.                           # Coefficient of relative risk aversion\n",
    "Rfree = 1.03                        # Interest factor on assets\n",
    "DiscFac = 0.97                      # Intertemporal discount factor\n",
    "LivPrb = [1.0]                      # Survival probability\n",
    "PermGroFac = [1.01]                 # Permanent income growth factor\n",
    "AgentCount = 1                      # Number of agents of this type (only matters for simulation)\n",
    "T_cycle = 1                         # Number of periods in the cycle for this agent type\n",
    "cycles = 0                          # Agent is infinitely lived\n",
    "\n",
    "# Make a dictionary to specify a perfect foresight consumer type\n",
    "dict_wealth = { 'CRRA': CRRA,\n",
    "                'Rfree': Rfree,\n",
    "                'DiscFac': DiscFac,\n",
    "                'LivPrb': LivPrb,\n",
    "                'PermGroFac': PermGroFac,\n",
    "                'AgentCount': AgentCount,\n",
    "                'T_cycle' : T_cycle,\n",
    "                'cycles' : cycles\n",
    "                }\n",
    "\n",
    "# Now lets pass our dictionary to our consumer class\n",
    "PFwealth = PerfForesightConsumerType(**dict_wealth)"
   ]
  },
  {
   "cell_type": "markdown",
   "metadata": {},
   "source": [
    "We can see that consumption is higher for all market resources when R is low, owing to the human wealth effect. And that the saving rate is very sensitive to changes in R (look at when m=1, the savings rate goes from -0.1 to- 0.5 when R moves from 1.06 to 1.03."
   ]
  },
  {
   "cell_type": "code",
   "execution_count": null,
   "metadata": {},
   "outputs": [],
   "source": []
  }
 ],
 "metadata": {
  "jupytext": {
   "formats": "py,ipynb",
   "notebook_metadata_filter": "all"
  },
  "kernelspec": {
   "display_name": "Python 3",
   "language": "python",
   "name": "python3"
  },
  "language_info": {
   "codemirror_mode": {
    "name": "ipython",
    "version": 3
   },
   "file_extension": ".py",
   "mimetype": "text/x-python",
   "name": "python",
   "nbconvert_exporter": "python",
   "pygments_lexer": "ipython3",
   "version": "3.7.6"
  }
 },
 "nbformat": 4,
 "nbformat_minor": 4
}
